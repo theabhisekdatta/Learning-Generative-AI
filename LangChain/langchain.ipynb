{
 "cells": [
  {
   "cell_type": "markdown",
   "metadata": {},
   "source": [
    "#### Langchain, openai key and HUggingFace API key"
   ]
  },
  {
   "cell_type": "code",
   "execution_count": 2,
   "metadata": {},
   "outputs": [],
   "source": [
    "from langchain_openai import ChatOpenAI\n",
    "from constant import openai_key\n",
    "from huggingface_Api import HUGGINGFACEHUB_API_TOKEN"
   ]
  },
  {
   "cell_type": "markdown",
   "metadata": {},
   "source": [
    "#### Call the openai env key globally"
   ]
  },
  {
   "cell_type": "code",
   "execution_count": 3,
   "metadata": {},
   "outputs": [],
   "source": [
    "import os\n",
    "os.environ[\"OPENAI_API_KEY\"] = openai_key"
   ]
  },
  {
   "cell_type": "markdown",
   "metadata": {},
   "source": [
    "#### From Langchain Initialize the OpenAI LLM"
   ]
  },
  {
   "cell_type": "code",
   "execution_count": 4,
   "metadata": {},
   "outputs": [],
   "source": [
    "llm = ChatOpenAI(temperature=0.8) # More the value towards 1 more random the LLM would be"
   ]
  },
  {
   "cell_type": "markdown",
   "metadata": {},
   "source": [
    "##### Testing"
   ]
  },
  {
   "cell_type": "code",
   "execution_count": 5,
   "metadata": {},
   "outputs": [
    {
     "name": "stderr",
     "output_type": "stream",
     "text": [
      "/home/abhisek/Documents/Careers/Studies/Data Science/Projects/Learning-Generative-AI/LangChain/langenv/lib/python3.10/site-packages/langchain_core/_api/deprecation.py:117: LangChainDeprecationWarning: The function `predict` was deprecated in LangChain 0.1.7 and will be removed in 0.2.0. Use invoke instead.\n",
      "  warn_deprecated(\n"
     ]
    },
    {
     "name": "stdout",
     "output_type": "stream",
     "text": [
      "The capital of India is New Delhi.\n"
     ]
    }
   ],
   "source": [
    "text = \" what is the capital of india\"\n",
    "print(llm.predict(text)) # also we can use (llm.invoke)"
   ]
  },
  {
   "cell_type": "markdown",
   "metadata": {},
   "source": [
    "#### From Huggingface \n",
    "##### We can use opensource model from Huggingface\n",
    "##### Declare the env globally"
   ]
  },
  {
   "cell_type": "code",
   "execution_count": 6,
   "metadata": {},
   "outputs": [],
   "source": [
    "os.environ[\"HUGGINGFACEHUB_API_TOKEN\"] = HUGGINGFACEHUB_API_TOKEN"
   ]
  },
  {
   "cell_type": "markdown",
   "metadata": {},
   "source": [
    "#### We use \"google/flan-t5-large\" it is a opensource model from Huggingface, also we are testing it below"
   ]
  },
  {
   "cell_type": "code",
   "execution_count": 7,
   "metadata": {},
   "outputs": [
    {
     "name": "stderr",
     "output_type": "stream",
     "text": [
      "/home/abhisek/Documents/Careers/Studies/Data Science/Projects/Learning-Generative-AI/LangChain/langenv/lib/python3.10/site-packages/langchain_core/_api/deprecation.py:117: LangChainDeprecationWarning: The class `langchain_community.llms.huggingface_hub.HuggingFaceHub` was deprecated in langchain-community 0.0.21 and will be removed in 0.2.0. Use HuggingFaceEndpoint instead.\n",
      "  warn_deprecated(\n",
      "/home/abhisek/Documents/Careers/Studies/Data Science/Projects/Learning-Generative-AI/LangChain/langenv/lib/python3.10/site-packages/tqdm/auto.py:21: TqdmWarning: IProgress not found. Please update jupyter and ipywidgets. See https://ipywidgets.readthedocs.io/en/stable/user_install.html\n",
      "  from .autonotebook import tqdm as notebook_tqdm\n"
     ]
    }
   ],
   "source": [
    "from langchain import HuggingFaceHub\n",
    "llm_huggingface=HuggingFaceHub(repo_id=\"google/flan-t5-large\")#,model_kwargs={\"temperature\":0,\"max_lenght\":64})"
   ]
  },
  {
   "cell_type": "code",
   "execution_count": 8,
   "metadata": {},
   "outputs": [
    {
     "name": "stderr",
     "output_type": "stream",
     "text": [
      "/home/abhisek/Documents/Careers/Studies/Data Science/Projects/Learning-Generative-AI/LangChain/langenv/lib/python3.10/site-packages/langchain_core/_api/deprecation.py:117: LangChainDeprecationWarning: The function `predict` was deprecated in LangChain 0.1.7 and will be removed in 0.2.0. Use invoke instead.\n",
      "  warn_deprecated(\n"
     ]
    },
    {
     "name": "stdout",
     "output_type": "stream",
     "text": [
      "The average temperature in New Delhi is 1°C, while in Kolkata it is \n"
     ]
    }
   ],
   "source": [
    "text_hug=\"what is the weather in new delhi and kolkata\"\n",
    "print(llm_huggingface.predict(text_hug))"
   ]
  },
  {
   "cell_type": "markdown",
   "metadata": {},
   "source": [
    "#### compare it with OpenAI LLM"
   ]
  },
  {
   "cell_type": "code",
   "execution_count": 9,
   "metadata": {},
   "outputs": [
    {
     "name": "stdout",
     "output_type": "stream",
     "text": [
      "I am sorry, I do not have real-time weather information. You can check the weather in New Delhi and Kolkata by using a reliable weather website or app.\n"
     ]
    }
   ],
   "source": [
    "text_openai_llm=\"what is the weather in new delhi and kolkata\"\n",
    "print(llm.predict(text_openai_llm))"
   ]
  },
  {
   "cell_type": "markdown",
   "metadata": {},
   "source": [
    "#### Prompt Template"
   ]
  },
  {
   "cell_type": "code",
   "execution_count": 10,
   "metadata": {},
   "outputs": [
    {
     "data": {
      "text/plain": [
       "'Tell me something about the country India'"
      ]
     },
     "execution_count": 10,
     "metadata": {},
     "output_type": "execute_result"
    }
   ],
   "source": [
    "from langchain.prompts import PromptTemplate\n",
    "\n",
    "prompt_template=PromptTemplate(input_variables=[\"country\"],\n",
    "               template=\"Tell me something about the country {country}\")\n",
    "\n",
    "prompt_template.format(country=\"India\")"
   ]
  },
  {
   "cell_type": "code",
   "execution_count": 11,
   "metadata": {},
   "outputs": [
    {
     "name": "stderr",
     "output_type": "stream",
     "text": [
      "/home/abhisek/Documents/Careers/Studies/Data Science/Projects/Learning-Generative-AI/LangChain/langenv/lib/python3.10/site-packages/langchain_core/_api/deprecation.py:117: LangChainDeprecationWarning: The function `run` was deprecated in LangChain 0.1.0 and will be removed in 0.2.0. Use invoke instead.\n",
      "  warn_deprecated(\n"
     ]
    },
    {
     "name": "stdout",
     "output_type": "stream",
     "text": [
      "India is a diverse country located in South Asia, known for its rich history, cultural heritage, and vibrant traditions. It is the seventh-largest country in the world by land area and the second-most populous country, with over 1.3 billion people.\n",
      "\n",
      "India is home to a wide variety of languages, religions, and ethnic groups, making it one of the most culturally diverse countries in the world. The country has a parliamentary system of government and is a federal republic, consisting of 28 states and 8 union territories.\n",
      "\n",
      "India is known for its ancient civilization, with a history dating back thousands of years. It is the birthplace of major religions such as Hinduism, Buddhism, Jainism, and Sikhism. The country is also famous for its architectural wonders, including the iconic Taj Mahal in Agra and the ancient temples of Khajuraho and Hampi.\n",
      "\n",
      "Indian cuisine is renowned for its use of spices and flavors, with dishes such as curry, biryani, and dosa being popular around the world. The country is also known for its vibrant festivals, including Diwali, Holi, and Eid, which celebrate the diversity and rich cultural heritage of India.\n",
      "\n",
      "India is a rapidly developing country with a fast-growing economy, particularly in industries such as technology, pharmaceuticals, and automotive. It is also known for its Bollywood film industry, which produces the largest number of films in the world.\n",
      "\n",
      "Overall, India is a country of contrasts, where ancient traditions coexist with modern advancements, making it a fascinating and dynamic place to visit and explore.\n"
     ]
    }
   ],
   "source": [
    "## To run the prompt and the llm along with it we need llm chain.\n",
    "\n",
    "from langchain.chains import LLMChain\n",
    "\n",
    "chain = LLMChain (llm=llm, prompt=prompt_template) ## Open AI LLM\n",
    "\n",
    "print(chain.run(\"India\"))"
   ]
  },
  {
   "cell_type": "markdown",
   "metadata": {},
   "source": [
    "#### Combine Multiple Chain using simple Sequential chain"
   ]
  },
  {
   "cell_type": "code",
   "execution_count": 12,
   "metadata": {},
   "outputs": [],
   "source": [
    "### Creating 2 chains\n",
    "capital_prompt = PromptTemplate(input_variables = [\"country\"],\n",
    "                              template = \"Please tell me the capital of {country}\")\n",
    "\n",
    "capital_chain = LLMChain(llm = llm, prompt = capital_prompt)\n",
    "\n",
    "famous_prompt = PromptTemplate(input_variables = [\"capital\"],\n",
    "                               template=\"Please tell me the famous places in {capital}\")\n",
    "\n",
    "famous_chain  = LLMChain(llm = llm, prompt = famous_prompt)"
   ]
  },
  {
   "cell_type": "code",
   "execution_count": 13,
   "metadata": {},
   "outputs": [
    {
     "name": "stdout",
     "output_type": "stream",
     "text": [
      "1. India Gate\n",
      "2. Red Fort\n",
      "3. Qutub Minar\n",
      "4. Lotus Temple\n",
      "5. Humayun's Tomb\n",
      "6. Jama Masjid\n",
      "7. Akshardham Temple\n",
      "8. Rashtrapati Bhavan\n",
      "9. Lodhi Gardens\n",
      "10. National Museum\n"
     ]
    }
   ],
   "source": [
    "from langchain.chains import SimpleSequentialChain\n",
    "simple_seq_chain = SimpleSequentialChain(chains=[capital_chain,famous_chain])\n",
    "print(simple_seq_chain.run(\"India\"))"
   ]
  },
  {
   "cell_type": "markdown",
   "metadata": {},
   "source": [
    "### Sequential Chain"
   ]
  },
  {
   "cell_type": "code",
   "execution_count": 14,
   "metadata": {},
   "outputs": [],
   "source": [
    "### Creating 2 chains\n",
    "capital_prompt = PromptTemplate(input_variables = [\"country\"],\n",
    "                              template = \"Please tell me the capital of {country}\")\n",
    "\n",
    "capital_chain = LLMChain(llm = llm, prompt = capital_prompt, output_key = \"capital\")\n",
    "\n",
    "famous_prompt = PromptTemplate(input_variables = [\"capital\"],\n",
    "                               template=\"Please tell me the famous places in {capital}\")\n",
    "\n",
    "famous_chain  = LLMChain(llm = llm, prompt = famous_prompt, output_key = \"places\")"
   ]
  },
  {
   "cell_type": "code",
   "execution_count": 15,
   "metadata": {},
   "outputs": [
    {
     "name": "stderr",
     "output_type": "stream",
     "text": [
      "/home/abhisek/Documents/Careers/Studies/Data Science/Projects/Learning-Generative-AI/LangChain/langenv/lib/python3.10/site-packages/langchain_core/_api/deprecation.py:117: LangChainDeprecationWarning: The function `__call__` was deprecated in LangChain 0.1.0 and will be removed in 0.2.0. Use invoke instead.\n",
      "  warn_deprecated(\n"
     ]
    },
    {
     "name": "stdout",
     "output_type": "stream",
     "text": [
      "{'country': 'India', 'text': 'India is the seventh-largest country by land area and the second-most populous country in the world, with over 1.3 billion people. It is located in South Asia and shares its borders with Pakistan, China, Nepal, Bhutan, Bangladesh, and Myanmar. \\n\\nIndia is known for its rich history, diverse culture, and ancient traditions. It is home to many religions, including Hinduism, Islam, Sikhism, Buddhism, and Christianity. The country is also known for its cuisine, which varies greatly from region to region.\\n\\nIndia is a federal parliamentary democratic republic, with a President as the head of state and a Prime Minister as the head of government. The capital city is New Delhi, and the official languages are Hindi and English.\\n\\nThe economy of India is one of the fastest-growing in the world, with a large and diverse workforce. The country is known for its IT and software services industry, as well as its agriculture, textiles, and pharmaceutical industries.\\n\\nIndia is also a popular tourist destination, with attractions such as the Taj Mahal, Jaipur, Kerala backwaters, and Goa beaches drawing visitors from around the world. The country is also known for its colorful festivals, such as Diwali, Holi, and Navratri.'}\n"
     ]
    }
   ],
   "source": [
    "from langchain.chains import SequentialChain\n",
    "\n",
    "seq_chain = SequentialChain(chains = [capital_chain, famous_chain],\n",
    "                            input_variables=[\"country\"], output_variables= [\"capital\", \"places\"])\n",
    "\n",
    "print(chain({\"country\":\"India\"}))"
   ]
  },
  {
   "cell_type": "markdown",
   "metadata": {},
   "source": [
    "#### Chatmodels (LangChain) with ChatOpenAI"
   ]
  },
  {
   "cell_type": "code",
   "execution_count": 19,
   "metadata": {},
   "outputs": [
    {
     "name": "stderr",
     "output_type": "stream",
     "text": [
      "/home/abhisek/Documents/Careers/Studies/Data Science/Projects/Learning-Generative-AI/LangChain/langenv/lib/python3.10/site-packages/langchain_core/_api/deprecation.py:117: LangChainDeprecationWarning: The class `langchain_community.chat_models.openai.ChatOpenAI` was deprecated in langchain-community 0.0.10 and will be removed in 0.2.0. An updated version of the class exists in the langchain-openai package and should be used instead. To use it run `pip install -U langchain-openai` and import as `from langchain_openai import ChatOpenAI`.\n",
      "  warn_deprecated(\n"
     ]
    }
   ],
   "source": [
    "from langchain.chat_models import ChatOpenAI\n",
    "# so when we use chatmodels we use 3 schemas\n",
    "from langchain.schema import HumanMessage, SystemMessage, AIMessage\n",
    "# Reinitialing ChatLLM model from OpenAI\n",
    "chat_llm = ChatOpenAI(temperature=0.6,model=\"gpt-3.5-turbo\")"
   ]
  },
  {
   "cell_type": "code",
   "execution_count": 21,
   "metadata": {},
   "outputs": [
    {
     "name": "stderr",
     "output_type": "stream",
     "text": [
      "/home/abhisek/Documents/Careers/Studies/Data Science/Projects/Learning-Generative-AI/LangChain/langenv/lib/python3.10/site-packages/langchain_core/_api/deprecation.py:117: LangChainDeprecationWarning: The function `__call__` was deprecated in LangChain 0.1.7 and will be removed in 0.2.0. Use invoke instead.\n",
      "  warn_deprecated(\n"
     ]
    },
    {
     "data": {
      "text/plain": [
       "AIMessage(content=\"Sure, here are a few AI jokes for you:\\n\\n1. Why did the AI break up with its girlfriend? She couldn't handle its emotional algorithms.\\n2. How does an AI fix its problems? It reboots its relationship status.\\n3. Why did the robot go to therapy? It had a circuit overload of emotions.\\n4. Why was the computer cold? It left its Windows open.\\n5. What do you call a robot who likes to take naps? A sleep mode-ule.\")"
      ]
     },
     "execution_count": 21,
     "metadata": {},
     "output_type": "execute_result"
    }
   ],
   "source": [
    "### Let use the 3 schemas HumanMessage(Human Input), SystemMessage(Instruction to the chatbot),AIMessage (Output of the chatbot)  \n",
    "chat_llm([\n",
    "    SystemMessage(content=\"You are a Comedian AI assitant\"), # this is what I tell my chatbot to behave like\n",
    "    HumanMessage(content=\"Let me some jokes of AI\") # Input from Human\n",
    "])"
   ]
  },
  {
   "cell_type": "code",
   "execution_count": null,
   "metadata": {},
   "outputs": [],
   "source": []
  }
 ],
 "metadata": {
  "kernelspec": {
   "display_name": "langenv",
   "language": "python",
   "name": "python3"
  },
  "language_info": {
   "codemirror_mode": {
    "name": "ipython",
    "version": 3
   },
   "file_extension": ".py",
   "mimetype": "text/x-python",
   "name": "python",
   "nbconvert_exporter": "python",
   "pygments_lexer": "ipython3",
   "version": "3.10.12"
  }
 },
 "nbformat": 4,
 "nbformat_minor": 2
}
