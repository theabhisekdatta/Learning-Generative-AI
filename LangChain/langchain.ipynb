{
 "cells": [
  {
   "cell_type": "markdown",
   "metadata": {},
   "source": [
    "#### Langchain, openai key and HUggingFace API key"
   ]
  },
  {
   "cell_type": "code",
   "execution_count": 1,
   "metadata": {},
   "outputs": [],
   "source": [
    "from langchain_openai import ChatOpenAI\n",
    "from constant import openai_key\n",
    "from huggingface_Api import HUGGINGFACEHUB_API_TOKEN"
   ]
  },
  {
   "cell_type": "markdown",
   "metadata": {},
   "source": [
    "#### Call the openai env key globally"
   ]
  },
  {
   "cell_type": "code",
   "execution_count": 2,
   "metadata": {},
   "outputs": [],
   "source": [
    "import os\n",
    "os.environ[\"OPENAI_API_KEY\"] = openai_key"
   ]
  },
  {
   "cell_type": "markdown",
   "metadata": {},
   "source": [
    "#### From Langchain Initialize the OpenAI LLM"
   ]
  },
  {
   "cell_type": "code",
   "execution_count": 3,
   "metadata": {},
   "outputs": [],
   "source": [
    "llm = ChatOpenAI(temperature=0.8) # More the value towards 1 more random the LLM would be"
   ]
  },
  {
   "cell_type": "markdown",
   "metadata": {},
   "source": [
    "##### Testing"
   ]
  },
  {
   "cell_type": "code",
   "execution_count": 4,
   "metadata": {},
   "outputs": [
    {
     "name": "stderr",
     "output_type": "stream",
     "text": [
      "/home/abhisek/Documents/Careers/Studies/Data Science/Projects/Learning-Generative-AI/LangChain/langenv/lib/python3.10/site-packages/langchain_core/_api/deprecation.py:117: LangChainDeprecationWarning: The function `predict` was deprecated in LangChain 0.1.7 and will be removed in 0.2.0. Use invoke instead.\n",
      "  warn_deprecated(\n"
     ]
    },
    {
     "name": "stdout",
     "output_type": "stream",
     "text": [
      "The capital of India is New Delhi.\n"
     ]
    }
   ],
   "source": [
    "text = \" what is the capital of india\"\n",
    "print(llm.predict(text)) # also we can use (llm.invoke)"
   ]
  },
  {
   "cell_type": "markdown",
   "metadata": {},
   "source": [
    "#### From Huggingface \n",
    "##### We can use opensource model from Huggingface\n",
    "##### Declare the env globally"
   ]
  },
  {
   "cell_type": "code",
   "execution_count": 5,
   "metadata": {},
   "outputs": [],
   "source": [
    "os.environ[\"HUGGINGFACEHUB_API_TOKEN\"] = HUGGINGFACEHUB_API_TOKEN"
   ]
  },
  {
   "cell_type": "markdown",
   "metadata": {},
   "source": [
    "#### We use \"google/flan-t5-large\" it is a opensource model from Huggingface, also we are testing it below"
   ]
  },
  {
   "cell_type": "code",
   "execution_count": 6,
   "metadata": {},
   "outputs": [
    {
     "name": "stderr",
     "output_type": "stream",
     "text": [
      "/home/abhisek/Documents/Careers/Studies/Data Science/Projects/Learning-Generative-AI/LangChain/langenv/lib/python3.10/site-packages/langchain_core/_api/deprecation.py:117: LangChainDeprecationWarning: The class `langchain_community.llms.huggingface_hub.HuggingFaceHub` was deprecated in langchain-community 0.0.21 and will be removed in 0.2.0. Use HuggingFaceEndpoint instead.\n",
      "  warn_deprecated(\n",
      "/home/abhisek/Documents/Careers/Studies/Data Science/Projects/Learning-Generative-AI/LangChain/langenv/lib/python3.10/site-packages/tqdm/auto.py:21: TqdmWarning: IProgress not found. Please update jupyter and ipywidgets. See https://ipywidgets.readthedocs.io/en/stable/user_install.html\n",
      "  from .autonotebook import tqdm as notebook_tqdm\n"
     ]
    }
   ],
   "source": [
    "from langchain import HuggingFaceHub\n",
    "llm_huggingface=HuggingFaceHub(repo_id=\"google/flan-t5-large\")#,model_kwargs={\"temperature\":0,\"max_lenght\":64})"
   ]
  },
  {
   "cell_type": "code",
   "execution_count": 7,
   "metadata": {},
   "outputs": [
    {
     "name": "stderr",
     "output_type": "stream",
     "text": [
      "/home/abhisek/Documents/Careers/Studies/Data Science/Projects/Learning-Generative-AI/LangChain/langenv/lib/python3.10/site-packages/langchain_core/_api/deprecation.py:117: LangChainDeprecationWarning: The function `predict` was deprecated in LangChain 0.1.7 and will be removed in 0.2.0. Use invoke instead.\n",
      "  warn_deprecated(\n"
     ]
    },
    {
     "name": "stdout",
     "output_type": "stream",
     "text": [
      "The average temperature in New Delhi is 1°C, while in Kolkata it is \n"
     ]
    }
   ],
   "source": [
    "text_hug=\"what is the weather in new delhi and kolkata\"\n",
    "print(llm_huggingface.predict(text_hug))"
   ]
  },
  {
   "cell_type": "markdown",
   "metadata": {},
   "source": [
    "#### compare it with OpenAI LLM"
   ]
  },
  {
   "cell_type": "code",
   "execution_count": 8,
   "metadata": {},
   "outputs": [
    {
     "name": "stdout",
     "output_type": "stream",
     "text": [
      "As of now, the weather in New Delhi is 31°C with clear skies and in Kolkata, it is 29°C with partly cloudy skies.\n"
     ]
    }
   ],
   "source": [
    "text_openai_llm=\"what is the weather in new delhi and kolkata\"\n",
    "print(llm.predict(text_openai_llm))"
   ]
  },
  {
   "cell_type": "markdown",
   "metadata": {},
   "source": [
    "#### Prompt Template"
   ]
  },
  {
   "cell_type": "code",
   "execution_count": 21,
   "metadata": {},
   "outputs": [
    {
     "data": {
      "text/plain": [
       "'Tell me something about the country India'"
      ]
     },
     "execution_count": 21,
     "metadata": {},
     "output_type": "execute_result"
    }
   ],
   "source": [
    "from langchain.prompts import PromptTemplate\n",
    "\n",
    "prompt_template=PromptTemplate(input_variables=[\"country\"],\n",
    "               template=\"Tell me something about the country {country}\")\n",
    "\n",
    "prompt_template.format(country=\"India\")"
   ]
  },
  {
   "cell_type": "code",
   "execution_count": 22,
   "metadata": {},
   "outputs": [
    {
     "name": "stderr",
     "output_type": "stream",
     "text": [
      "/home/abhisek/Documents/Careers/Studies/Data Science/Projects/Learning-Generative-AI/LangChain/langenv/lib/python3.10/site-packages/langchain_core/_api/deprecation.py:117: LangChainDeprecationWarning: The function `run` was deprecated in LangChain 0.1.0 and will be removed in 0.2.0. Use invoke instead.\n",
      "  warn_deprecated(\n"
     ]
    },
    {
     "name": "stdout",
     "output_type": "stream",
     "text": [
      "India is the seventh-largest country in the world by land area and the second-most populous country, with over 1.3 billion people. It is located in South Asia and is known for its diverse culture, rich history, and stunning landscapes. India is home to several major religions, including Hinduism, Buddhism, Islam, and Sikhism. It is also known for its delicious cuisine, vibrant festivals, and Bollywood film industry. The country's economy is one of the fastest-growing in the world, with a strong emphasis on technology and agriculture. India is also known for its ancient architectural wonders, such as the Taj Mahal and the temples of Khajuraho.\n"
     ]
    }
   ],
   "source": [
    "## To run the prompt and the llm along with it we need llm chain.\n",
    "\n",
    "from langchain.chains import LLMChain\n",
    "\n",
    "chain = LLMChain (llm=llm, prompt=prompt_template) ## Open AI LLM\n",
    "\n",
    "print(chain.run(\"India\"))"
   ]
  },
  {
   "cell_type": "markdown",
   "metadata": {},
   "source": [
    "#### Combine Multiple Chain using simple Sequential chain"
   ]
  },
  {
   "cell_type": "code",
   "execution_count": 27,
   "metadata": {},
   "outputs": [],
   "source": [
    "### Creating 2 chains\n",
    "capital_prompt = PromptTemplate(input_variables = [\"country\"],\n",
    "                              template = \"Please tell me the capital of {country}\")\n",
    "\n",
    "capital_chain = LLMChain(llm = llm, prompt = capital_prompt)\n",
    "\n",
    "famous_prompt = PromptTemplate(input_variables = [\"capital\"],\n",
    "                               template=\"Please tell me the famous places in {capital}\")\n",
    "\n",
    "famous_chain  = LLMChain(llm = llm, prompt = famous_prompt)"
   ]
  },
  {
   "cell_type": "code",
   "execution_count": 31,
   "metadata": {},
   "outputs": [
    {
     "name": "stdout",
     "output_type": "stream",
     "text": [
      "Some famous places in New Delhi, the capital of India, are:\n",
      "\n",
      "1. India Gate\n",
      "2. Lotus Temple\n",
      "3. Red Fort\n",
      "4. Qutub Minar\n",
      "5. Humayun's Tomb\n",
      "6. Jama Masjid\n",
      "7. Akshardham Temple\n",
      "8. Rashtrapati Bhavan (President's House)\n",
      "9. Gurudwara Bangla Sahib\n",
      "10. National Museum\n"
     ]
    }
   ],
   "source": [
    "from langchain.chains import SimpleSequentialChain\n",
    "simple_seq_chain = SimpleSequentialChain(chains=[capital_chain,famous_chain])\n",
    "print(simple_seq_chain.run(\"India\"))"
   ]
  },
  {
   "cell_type": "markdown",
   "metadata": {},
   "source": [
    "### Sequential Chain"
   ]
  },
  {
   "cell_type": "code",
   "execution_count": 30,
   "metadata": {},
   "outputs": [],
   "source": [
    "### Creating 2 chains\n",
    "capital_prompt = PromptTemplate(input_variables = [\"country\"],\n",
    "                              template = \"Please tell me the capital of {country}\")\n",
    "\n",
    "capital_chain = LLMChain(llm = llm, prompt = capital_prompt, output_key = \"capital\")\n",
    "\n",
    "famous_prompt = PromptTemplate(input_variables = [\"capital\"],\n",
    "                               template=\"Please tell me the famous places in {capital}\")\n",
    "\n",
    "famous_chain  = LLMChain(llm = llm, prompt = famous_prompt, output_key = \"places\")"
   ]
  },
  {
   "cell_type": "code",
   "execution_count": 35,
   "metadata": {},
   "outputs": [
    {
     "name": "stdout",
     "output_type": "stream",
     "text": [
      "{'country': 'India', 'text': \"India is a diverse and vibrant country located in South Asia. It is the seventh-largest country in the world by land area and has a population of over 1.3 billion people, making it the second-most populous country in the world. \\n\\nIndia is known for its rich history and cultural heritage, with a variety of languages, religions, and traditions coexisting harmoniously. It is home to several major religions, including Hinduism, Islam, Christianity, Sikhism, Buddhism, and Jainism.\\n\\nThe country is also known for its delicious cuisine, which varies from region to region. Some popular Indian dishes include biryani, curry, dosa, and samosas.\\n\\nIndia has a rapidly growing economy and is considered one of the world's fastest-growing major economies. It is a major player in the global IT industry and has a well-established film industry, Bollywood, which produces the largest number of films in the world.\\n\\nIndia is also known for its stunning natural beauty, with diverse landscapes ranging from the Himalayan mountains in the north to the tropical beaches of Goa in the south. The country is home to several UNESCO World Heritage Sites, including the Taj Mahal, Jaipur's historic city, and the ancient temples of Hampi.\\n\\nOverall, India is a country that is full of contrasts and contradictions, where ancient traditions and modern innovations coexist in a unique and captivating way.\"}\n"
     ]
    }
   ],
   "source": [
    "from langchain.chains import SequentialChain\n",
    "\n",
    "seq_chain = SequentialChain(chains = [capital_chain, famous_chain],\n",
    "                            input_variables=[\"country\"], output_variables= [\"capital\", \"places\"])\n",
    "\n",
    "print(chain({\"country\":\"India\"}))"
   ]
  },
  {
   "cell_type": "code",
   "execution_count": null,
   "metadata": {},
   "outputs": [],
   "source": []
  }
 ],
 "metadata": {
  "kernelspec": {
   "display_name": "langenv",
   "language": "python",
   "name": "python3"
  },
  "language_info": {
   "codemirror_mode": {
    "name": "ipython",
    "version": 3
   },
   "file_extension": ".py",
   "mimetype": "text/x-python",
   "name": "python",
   "nbconvert_exporter": "python",
   "pygments_lexer": "ipython3",
   "version": "3.10.12"
  }
 },
 "nbformat": 4,
 "nbformat_minor": 2
}
